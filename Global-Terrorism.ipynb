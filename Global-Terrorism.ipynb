{
 "cells": [
  {
   "cell_type": "code",
   "execution_count": 1,
   "metadata": {},
   "outputs": [],
   "source": [
    "import pandas as pd\n",
    "import numpy as np"
   ]
  },
  {
   "cell_type": "code",
   "execution_count": 4,
   "metadata": {},
   "outputs": [
    {
     "name": "stderr",
     "output_type": "stream",
     "text": [
      "C:\\Users\\ANJU\\Anaconda3\\lib\\site-packages\\IPython\\core\\interactiveshell.py:3057: DtypeWarning: Columns (4,6,31,33,61,62,63,76,79,90,92,94,96,114,115,121) have mixed types. Specify dtype option on import or set low_memory=False.\n",
      "  interactivity=interactivity, compiler=compiler, result=result)\n"
     ]
    }
   ],
   "source": [
    "data=pd.read_csv(\"terro.csv\",encoding=(\"ISO-8859-1\"))"
   ]
  },
  {
   "cell_type": "code",
   "execution_count": 5,
   "metadata": {},
   "outputs": [
    {
     "data": {
      "text/html": [
       "<div>\n",
       "<style scoped>\n",
       "    .dataframe tbody tr th:only-of-type {\n",
       "        vertical-align: middle;\n",
       "    }\n",
       "\n",
       "    .dataframe tbody tr th {\n",
       "        vertical-align: top;\n",
       "    }\n",
       "\n",
       "    .dataframe thead th {\n",
       "        text-align: right;\n",
       "    }\n",
       "</style>\n",
       "<table border=\"1\" class=\"dataframe\">\n",
       "  <thead>\n",
       "    <tr style=\"text-align: right;\">\n",
       "      <th></th>\n",
       "      <th>eventid</th>\n",
       "      <th>iyear</th>\n",
       "      <th>imonth</th>\n",
       "      <th>iday</th>\n",
       "      <th>approxdate</th>\n",
       "      <th>extended</th>\n",
       "      <th>resolution</th>\n",
       "      <th>country</th>\n",
       "      <th>country_txt</th>\n",
       "      <th>region</th>\n",
       "      <th>...</th>\n",
       "      <th>addnotes</th>\n",
       "      <th>scite1</th>\n",
       "      <th>scite2</th>\n",
       "      <th>scite3</th>\n",
       "      <th>dbsource</th>\n",
       "      <th>INT_LOG</th>\n",
       "      <th>INT_IDEO</th>\n",
       "      <th>INT_MISC</th>\n",
       "      <th>INT_ANY</th>\n",
       "      <th>related</th>\n",
       "    </tr>\n",
       "  </thead>\n",
       "  <tbody>\n",
       "    <tr>\n",
       "      <th>0</th>\n",
       "      <td>197000000001</td>\n",
       "      <td>1970</td>\n",
       "      <td>7</td>\n",
       "      <td>2</td>\n",
       "      <td>NaN</td>\n",
       "      <td>0</td>\n",
       "      <td>NaN</td>\n",
       "      <td>58</td>\n",
       "      <td>Dominican Republic</td>\n",
       "      <td>2</td>\n",
       "      <td>...</td>\n",
       "      <td>NaN</td>\n",
       "      <td>NaN</td>\n",
       "      <td>NaN</td>\n",
       "      <td>NaN</td>\n",
       "      <td>PGIS</td>\n",
       "      <td>0</td>\n",
       "      <td>0</td>\n",
       "      <td>0</td>\n",
       "      <td>0</td>\n",
       "      <td>NaN</td>\n",
       "    </tr>\n",
       "    <tr>\n",
       "      <th>1</th>\n",
       "      <td>197000000002</td>\n",
       "      <td>1970</td>\n",
       "      <td>0</td>\n",
       "      <td>0</td>\n",
       "      <td>NaN</td>\n",
       "      <td>0</td>\n",
       "      <td>NaN</td>\n",
       "      <td>130</td>\n",
       "      <td>Mexico</td>\n",
       "      <td>1</td>\n",
       "      <td>...</td>\n",
       "      <td>NaN</td>\n",
       "      <td>NaN</td>\n",
       "      <td>NaN</td>\n",
       "      <td>NaN</td>\n",
       "      <td>PGIS</td>\n",
       "      <td>0</td>\n",
       "      <td>1</td>\n",
       "      <td>1</td>\n",
       "      <td>1</td>\n",
       "      <td>NaN</td>\n",
       "    </tr>\n",
       "    <tr>\n",
       "      <th>2</th>\n",
       "      <td>197001000001</td>\n",
       "      <td>1970</td>\n",
       "      <td>1</td>\n",
       "      <td>0</td>\n",
       "      <td>NaN</td>\n",
       "      <td>0</td>\n",
       "      <td>NaN</td>\n",
       "      <td>160</td>\n",
       "      <td>Philippines</td>\n",
       "      <td>5</td>\n",
       "      <td>...</td>\n",
       "      <td>NaN</td>\n",
       "      <td>NaN</td>\n",
       "      <td>NaN</td>\n",
       "      <td>NaN</td>\n",
       "      <td>PGIS</td>\n",
       "      <td>-9</td>\n",
       "      <td>-9</td>\n",
       "      <td>1</td>\n",
       "      <td>1</td>\n",
       "      <td>NaN</td>\n",
       "    </tr>\n",
       "    <tr>\n",
       "      <th>3</th>\n",
       "      <td>197001000002</td>\n",
       "      <td>1970</td>\n",
       "      <td>1</td>\n",
       "      <td>0</td>\n",
       "      <td>NaN</td>\n",
       "      <td>0</td>\n",
       "      <td>NaN</td>\n",
       "      <td>78</td>\n",
       "      <td>Greece</td>\n",
       "      <td>8</td>\n",
       "      <td>...</td>\n",
       "      <td>NaN</td>\n",
       "      <td>NaN</td>\n",
       "      <td>NaN</td>\n",
       "      <td>NaN</td>\n",
       "      <td>PGIS</td>\n",
       "      <td>-9</td>\n",
       "      <td>-9</td>\n",
       "      <td>1</td>\n",
       "      <td>1</td>\n",
       "      <td>NaN</td>\n",
       "    </tr>\n",
       "    <tr>\n",
       "      <th>4</th>\n",
       "      <td>197001000003</td>\n",
       "      <td>1970</td>\n",
       "      <td>1</td>\n",
       "      <td>0</td>\n",
       "      <td>NaN</td>\n",
       "      <td>0</td>\n",
       "      <td>NaN</td>\n",
       "      <td>101</td>\n",
       "      <td>Japan</td>\n",
       "      <td>4</td>\n",
       "      <td>...</td>\n",
       "      <td>NaN</td>\n",
       "      <td>NaN</td>\n",
       "      <td>NaN</td>\n",
       "      <td>NaN</td>\n",
       "      <td>PGIS</td>\n",
       "      <td>-9</td>\n",
       "      <td>-9</td>\n",
       "      <td>1</td>\n",
       "      <td>1</td>\n",
       "      <td>NaN</td>\n",
       "    </tr>\n",
       "  </tbody>\n",
       "</table>\n",
       "<p>5 rows × 135 columns</p>\n",
       "</div>"
      ],
      "text/plain": [
       "        eventid  iyear  imonth  iday approxdate  extended resolution  country  \\\n",
       "0  197000000001   1970       7     2        NaN         0        NaN       58   \n",
       "1  197000000002   1970       0     0        NaN         0        NaN      130   \n",
       "2  197001000001   1970       1     0        NaN         0        NaN      160   \n",
       "3  197001000002   1970       1     0        NaN         0        NaN       78   \n",
       "4  197001000003   1970       1     0        NaN         0        NaN      101   \n",
       "\n",
       "          country_txt  region  ... addnotes scite1 scite2  scite3  dbsource  \\\n",
       "0  Dominican Republic       2  ...      NaN    NaN    NaN     NaN      PGIS   \n",
       "1              Mexico       1  ...      NaN    NaN    NaN     NaN      PGIS   \n",
       "2         Philippines       5  ...      NaN    NaN    NaN     NaN      PGIS   \n",
       "3              Greece       8  ...      NaN    NaN    NaN     NaN      PGIS   \n",
       "4               Japan       4  ...      NaN    NaN    NaN     NaN      PGIS   \n",
       "\n",
       "   INT_LOG  INT_IDEO INT_MISC INT_ANY  related  \n",
       "0        0         0        0       0      NaN  \n",
       "1        0         1        1       1      NaN  \n",
       "2       -9        -9        1       1      NaN  \n",
       "3       -9        -9        1       1      NaN  \n",
       "4       -9        -9        1       1      NaN  \n",
       "\n",
       "[5 rows x 135 columns]"
      ]
     },
     "execution_count": 5,
     "metadata": {},
     "output_type": "execute_result"
    }
   ],
   "source": [
    "data.head()"
   ]
  },
  {
   "cell_type": "code",
   "execution_count": 6,
   "metadata": {},
   "outputs": [
    {
     "data": {
      "text/plain": [
       "11960"
      ]
     },
     "execution_count": 6,
     "metadata": {},
     "output_type": "execute_result"
    }
   ],
   "source": [
    "### How many attacks happened in India\n",
    "data['country_txt'].unique().tolist()\n",
    "data[data['country_txt']==\"India\"]\n",
    "data[data['country_txt']==\"India\"].shape[0]"
   ]
  },
  {
   "cell_type": "code",
   "execution_count": 7,
   "metadata": {},
   "outputs": [
    {
     "data": {
      "text/plain": [
       "10288"
      ]
     },
     "execution_count": 7,
     "metadata": {},
     "output_type": "execute_result"
    }
   ],
   "source": [
    "## How many attacks happened in India and upto 3 people were killed\n",
    "data[(data['country_txt']=='India')&(data['nkill']<=3)].shape[0]"
   ]
  },
  {
   "cell_type": "code",
   "execution_count": 8,
   "metadata": {},
   "outputs": [
    {
     "data": {
      "text/html": [
       "<div>\n",
       "<style scoped>\n",
       "    .dataframe tbody tr th:only-of-type {\n",
       "        vertical-align: middle;\n",
       "    }\n",
       "\n",
       "    .dataframe tbody tr th {\n",
       "        vertical-align: top;\n",
       "    }\n",
       "\n",
       "    .dataframe thead th {\n",
       "        text-align: right;\n",
       "    }\n",
       "</style>\n",
       "<table border=\"1\" class=\"dataframe\">\n",
       "  <thead>\n",
       "    <tr style=\"text-align: right;\">\n",
       "      <th></th>\n",
       "      <th>city</th>\n",
       "      <th>summary</th>\n",
       "    </tr>\n",
       "  </thead>\n",
       "  <tbody>\n",
       "    <tr>\n",
       "      <th>1186</th>\n",
       "      <td>New Delhi</td>\n",
       "      <td>NaN</td>\n",
       "    </tr>\n",
       "    <tr>\n",
       "      <th>3857</th>\n",
       "      <td>New Delhi</td>\n",
       "      <td>NaN</td>\n",
       "    </tr>\n",
       "    <tr>\n",
       "      <th>5327</th>\n",
       "      <td>Bombay</td>\n",
       "      <td>NaN</td>\n",
       "    </tr>\n",
       "    <tr>\n",
       "      <th>7342</th>\n",
       "      <td>Imphal</td>\n",
       "      <td>NaN</td>\n",
       "    </tr>\n",
       "    <tr>\n",
       "      <th>8685</th>\n",
       "      <td>Unknown</td>\n",
       "      <td>NaN</td>\n",
       "    </tr>\n",
       "    <tr>\n",
       "      <th>8831</th>\n",
       "      <td>Unknown</td>\n",
       "      <td>NaN</td>\n",
       "    </tr>\n",
       "    <tr>\n",
       "      <th>9053</th>\n",
       "      <td>Amapur</td>\n",
       "      <td>NaN</td>\n",
       "    </tr>\n",
       "    <tr>\n",
       "      <th>9113</th>\n",
       "      <td>Raisikah</td>\n",
       "      <td>NaN</td>\n",
       "    </tr>\n",
       "    <tr>\n",
       "      <th>9116</th>\n",
       "      <td>Champhai</td>\n",
       "      <td>NaN</td>\n",
       "    </tr>\n",
       "    <tr>\n",
       "      <th>9146</th>\n",
       "      <td>Aizawl</td>\n",
       "      <td>NaN</td>\n",
       "    </tr>\n",
       "  </tbody>\n",
       "</table>\n",
       "</div>"
      ],
      "text/plain": [
       "           city summary\n",
       "1186  New Delhi     NaN\n",
       "3857  New Delhi     NaN\n",
       "5327     Bombay     NaN\n",
       "7342     Imphal     NaN\n",
       "8685    Unknown     NaN\n",
       "8831    Unknown     NaN\n",
       "9053     Amapur     NaN\n",
       "9113   Raisikah     NaN\n",
       "9116   Champhai     NaN\n",
       "9146     Aizawl     NaN"
      ]
     },
     "execution_count": 8,
     "metadata": {},
     "output_type": "execute_result"
    }
   ],
   "source": [
    "# Extract the city and summary for attacks above\n",
    "data.query(\"country_txt=='India' & nkill<=3\")[['city','summary']].head(10)"
   ]
  },
  {
   "cell_type": "code",
   "execution_count": 9,
   "metadata": {},
   "outputs": [
    {
     "data": {
      "text/plain": [
       "81098                Mumbai\n",
       "96726               Jhargam\n",
       "54416                Bombay\n",
       "95988    Dantewada district\n",
       "56912              Banabari\n",
       "Name: city, dtype: object"
      ]
     },
     "execution_count": 9,
     "metadata": {},
     "output_type": "execute_result"
    }
   ],
   "source": [
    "# In a single terror incident in India, find out top 5 cities by number killed\n",
    "data.query(\"country_txt=='India'\").sort_values('nkill',ascending=False)['city'].head(5)"
   ]
  },
  {
   "cell_type": "code",
   "execution_count": 10,
   "metadata": {},
   "outputs": [
    {
     "data": {
      "text/plain": [
       "5568"
      ]
     },
     "execution_count": 10,
     "metadata": {},
     "output_type": "execute_result"
    }
   ],
   "source": [
    "#### Adding new columns to the data\n",
    "#Attacks which were successful and were suicide attacks\n",
    "data['success_suicide']=data['suicide']+data['success']\n",
    "data=data.assign(success_suicide_1=data['suicide']+data['success'])\n",
    "\n",
    "data.query(\"success_suicide==2\").shape[0]\n"
   ]
  },
  {
   "cell_type": "code",
   "execution_count": 11,
   "metadata": {},
   "outputs": [],
   "source": [
    "\n",
    "### Dropping columns\n",
    "data.drop('success_suicide',axis=1) \n",
    "data.drop('success_suicide',axis=1,inplace=True) "
   ]
  },
  {
   "cell_type": "code",
   "execution_count": 12,
   "metadata": {},
   "outputs": [
    {
     "data": {
      "text/plain": [
       "0         Not Severe\n",
       "1         Not Severe\n",
       "2         Not Severe\n",
       "3         Not Severe\n",
       "4         Not Severe\n",
       "5         Not Severe\n",
       "6         Not Severe\n",
       "7         Not Severe\n",
       "8         Not Severe\n",
       "9         Not Severe\n",
       "10        Not Severe\n",
       "11        Not Severe\n",
       "12        Not Severe\n",
       "13        Not Severe\n",
       "14        Not Severe\n",
       "15        Not Severe\n",
       "16        Not Severe\n",
       "17        Not Severe\n",
       "18        Not Severe\n",
       "19        Not Severe\n",
       "20        Not Severe\n",
       "21        Not Severe\n",
       "22        Not Severe\n",
       "23        Not Severe\n",
       "24        Not Severe\n",
       "25        Not Severe\n",
       "26        Not Severe\n",
       "27        Not Severe\n",
       "28        Not Severe\n",
       "29        Not Severe\n",
       "             ...    \n",
       "181661    Not Severe\n",
       "181662    Not Severe\n",
       "181663    Not Severe\n",
       "181664    Not Severe\n",
       "181665    Not Severe\n",
       "181666    Not Severe\n",
       "181667    Not Severe\n",
       "181668    Not Severe\n",
       "181669    Not Severe\n",
       "181670    Not Severe\n",
       "181671    Not Severe\n",
       "181672        Severe\n",
       "181673        Severe\n",
       "181674    Not Severe\n",
       "181675    Not Severe\n",
       "181676    Not Severe\n",
       "181677    Not Severe\n",
       "181678    Not Severe\n",
       "181679        Severe\n",
       "181680    Not Severe\n",
       "181681    Not Severe\n",
       "181682    Not Severe\n",
       "181683        Severe\n",
       "181684    Not Severe\n",
       "181685    Not Severe\n",
       "181686    Not Severe\n",
       "181687    Not Severe\n",
       "181688    Not Severe\n",
       "181689    Not Severe\n",
       "181690    Not Severe\n",
       "Name: nkill, Length: 181691, dtype: object"
      ]
     },
     "execution_count": 12,
     "metadata": {},
     "output_type": "execute_result"
    }
   ],
   "source": [
    "### Aggregations and manipulations using apply and map\n",
    "#map: map a function to each element of a series object\n",
    "data['nkill'].describe()\n",
    "#Suppose we want to label all the incidents where the number killed was more than 5 as severe. This would involve applying a function on each element of the series, map helps in doing that\n",
    "def get_label(x):\n",
    "    if x>5:\n",
    "        return 'Severe'\n",
    "    else:\n",
    "        return 'Not Severe'\n",
    "data['nkill'].map(get_label)\n",
    "#You can use lambda functions as well (if else follows a special form when used with lambdas )\n",
    "data['nkill'].map(lambda x: \"Severe\" if x>5 else \"Not Severe\")"
   ]
  },
  {
   "cell_type": "code",
   "execution_count": 13,
   "metadata": {},
   "outputs": [
    {
     "data": {
      "text/plain": [
       "0         0\n",
       "1         0\n",
       "2         0\n",
       "3         0\n",
       "4         0\n",
       "5         0\n",
       "6         0\n",
       "7         0\n",
       "8         0\n",
       "9         0\n",
       "10        0\n",
       "11        0\n",
       "12        0\n",
       "13        0\n",
       "14        0\n",
       "15        0\n",
       "16        0\n",
       "17        0\n",
       "18        0\n",
       "19        0\n",
       "20        0\n",
       "21        0\n",
       "22        0\n",
       "23        0\n",
       "24        0\n",
       "25        0\n",
       "26        0\n",
       "27        0\n",
       "28        0\n",
       "29        0\n",
       "         ..\n",
       "181661    0\n",
       "181662    0\n",
       "181663    0\n",
       "181664    0\n",
       "181665    0\n",
       "181666    0\n",
       "181667    1\n",
       "181668    0\n",
       "181669    0\n",
       "181670    0\n",
       "181671    0\n",
       "181672    1\n",
       "181673    0\n",
       "181674    0\n",
       "181675    0\n",
       "181676    0\n",
       "181677    0\n",
       "181678    0\n",
       "181679    0\n",
       "181680    0\n",
       "181681    0\n",
       "181682    0\n",
       "181683    0\n",
       "181684    0\n",
       "181685    0\n",
       "181686    0\n",
       "181687    0\n",
       "181688    0\n",
       "181689    0\n",
       "181690    0\n",
       "Length: 181691, dtype: int64"
      ]
     },
     "execution_count": 13,
     "metadata": {},
     "output_type": "execute_result"
    }
   ],
   "source": [
    "# We can use apply to use a function row wise or column wise\n",
    "# Let's write a function to label an incident that was both successful and suicidal\n",
    "\n",
    "def get_label(row):\n",
    "    if row['success']==1 and row['suicide']==1:\n",
    "        return 1\n",
    "    else:\n",
    "        return 0\n",
    "data.apply(get_label,axis=1)\n",
    "data.apply(get_label,axis=1).unique()\n",
    "\n",
    "data.apply(lambda row: 1 if row['success']==1 and row['suicide']==1 else 0,axis=1)\n"
   ]
  },
  {
   "cell_type": "code",
   "execution_count": 14,
   "metadata": {},
   "outputs": [],
   "source": [
    "### Create a new  category representing if the incident occured in Afghanistan, Pakistan or India as one level of the category and all the other countries as another level\n",
    "\n",
    "def get_label(row):\n",
    "    if row['country_txt']=='India' or row['country_txt']=='Afghnistan' or row['country_txt']=='Pakistan':\n",
    "        return 'Af-Pak-India'\n",
    "    else:\n",
    "        return 'ROW'\n",
    "data.apply(get_label,axis=1)\n",
    "\n",
    "data['Local']=data.apply(get_label,axis=1)"
   ]
  },
  {
   "cell_type": "code",
   "execution_count": 15,
   "metadata": {},
   "outputs": [
    {
     "data": {
      "text/plain": [
       "0                  ROW\n",
       "1                  ROW\n",
       "2                  ROW\n",
       "3                  ROW\n",
       "4                  ROW\n",
       "5                  ROW\n",
       "6                  ROW\n",
       "7                  ROW\n",
       "8                  ROW\n",
       "9                  ROW\n",
       "10                 ROW\n",
       "11                 ROW\n",
       "12                 ROW\n",
       "13                 ROW\n",
       "14                 ROW\n",
       "15                 ROW\n",
       "16                 ROW\n",
       "17                 ROW\n",
       "18                 ROW\n",
       "19                 ROW\n",
       "20                 ROW\n",
       "21                 ROW\n",
       "22                 ROW\n",
       "23                 ROW\n",
       "24                 ROW\n",
       "25                 ROW\n",
       "26                 ROW\n",
       "27                 ROW\n",
       "28                 ROW\n",
       "29                 ROW\n",
       "              ...     \n",
       "181661    Af-Pak-India\n",
       "181662             ROW\n",
       "181663    Af-Pak-India\n",
       "181664             ROW\n",
       "181665    Af-Pak-India\n",
       "181666             ROW\n",
       "181667             ROW\n",
       "181668             ROW\n",
       "181669             ROW\n",
       "181670             ROW\n",
       "181671             ROW\n",
       "181672    Af-Pak-India\n",
       "181673             ROW\n",
       "181674             ROW\n",
       "181675             ROW\n",
       "181676             ROW\n",
       "181677             ROW\n",
       "181678             ROW\n",
       "181679             ROW\n",
       "181680             ROW\n",
       "181681             ROW\n",
       "181682             ROW\n",
       "181683             ROW\n",
       "181684    Af-Pak-India\n",
       "181685             ROW\n",
       "181686             ROW\n",
       "181687             ROW\n",
       "181688             ROW\n",
       "181689    Af-Pak-India\n",
       "181690             ROW\n",
       "Length: 181691, dtype: object"
      ]
     },
     "execution_count": 15,
     "metadata": {},
     "output_type": "execute_result"
    }
   ],
   "source": [
    "data.apply(lambda row: 'Af-Pak-India' if row['country_txt']=='India' or row['country_txt']=='Afghnistan' or row['country_txt']=='Pakistan' else  'ROW', axis =1 )"
   ]
  },
  {
   "cell_type": "code",
   "execution_count": 16,
   "metadata": {},
   "outputs": [
    {
     "data": {
      "text/plain": [
       "Local\n",
       "Af-Pak-India     26328\n",
       "ROW             155363\n",
       "dtype: int64"
      ]
     },
     "execution_count": 16,
     "metadata": {},
     "output_type": "execute_result"
    }
   ],
   "source": [
    "\n",
    "## Number of incidents in Af-Pak-India vs ROW\n",
    "data['Local'].value_counts()\n",
    "data.groupby('Local').size()"
   ]
  },
  {
   "cell_type": "code",
   "execution_count": 17,
   "metadata": {},
   "outputs": [
    {
     "data": {
      "text/html": [
       "<div>\n",
       "<style scoped>\n",
       "    .dataframe tbody tr th:only-of-type {\n",
       "        vertical-align: middle;\n",
       "    }\n",
       "\n",
       "    .dataframe tbody tr th {\n",
       "        vertical-align: top;\n",
       "    }\n",
       "\n",
       "    .dataframe thead th {\n",
       "        text-align: right;\n",
       "    }\n",
       "</style>\n",
       "<table border=\"1\" class=\"dataframe\">\n",
       "  <thead>\n",
       "    <tr style=\"text-align: right;\">\n",
       "      <th></th>\n",
       "      <th>Local</th>\n",
       "      <th>suicide</th>\n",
       "      <th>eventid</th>\n",
       "    </tr>\n",
       "  </thead>\n",
       "  <tbody>\n",
       "    <tr>\n",
       "      <th>0</th>\n",
       "      <td>Af-Pak-India</td>\n",
       "      <td>0</td>\n",
       "      <td>25757</td>\n",
       "    </tr>\n",
       "    <tr>\n",
       "      <th>1</th>\n",
       "      <td>Af-Pak-India</td>\n",
       "      <td>1</td>\n",
       "      <td>571</td>\n",
       "    </tr>\n",
       "    <tr>\n",
       "      <th>2</th>\n",
       "      <td>ROW</td>\n",
       "      <td>0</td>\n",
       "      <td>149301</td>\n",
       "    </tr>\n",
       "    <tr>\n",
       "      <th>3</th>\n",
       "      <td>ROW</td>\n",
       "      <td>1</td>\n",
       "      <td>6062</td>\n",
       "    </tr>\n",
       "  </tbody>\n",
       "</table>\n",
       "</div>"
      ],
      "text/plain": [
       "          Local  suicide  eventid\n",
       "0  Af-Pak-India        0    25757\n",
       "1  Af-Pak-India        1      571\n",
       "2           ROW        0   149301\n",
       "3           ROW        1     6062"
      ]
     },
     "execution_count": 17,
     "metadata": {},
     "output_type": "execute_result"
    }
   ],
   "source": [
    "## Number of suicide attacks by Af-Pak-India vs ROW\n",
    "data.groupby(['Local','suicide']).agg({'eventid':np.size})\n",
    "data.groupby(['Local','suicide'],as_index=False).agg({'eventid':np.size})"
   ]
  },
  {
   "cell_type": "code",
   "execution_count": 18,
   "metadata": {},
   "outputs": [
    {
     "data": {
      "text/html": [
       "<div>\n",
       "<style scoped>\n",
       "    .dataframe tbody tr th:only-of-type {\n",
       "        vertical-align: middle;\n",
       "    }\n",
       "\n",
       "    .dataframe tbody tr th {\n",
       "        vertical-align: top;\n",
       "    }\n",
       "\n",
       "    .dataframe thead th {\n",
       "        text-align: right;\n",
       "    }\n",
       "</style>\n",
       "<table border=\"1\" class=\"dataframe\">\n",
       "  <thead>\n",
       "    <tr style=\"text-align: right;\">\n",
       "      <th></th>\n",
       "      <th>Local</th>\n",
       "      <th>suicide</th>\n",
       "      <th>mean</th>\n",
       "      <th>size</th>\n",
       "    </tr>\n",
       "  </thead>\n",
       "  <tbody>\n",
       "    <tr>\n",
       "      <th>0</th>\n",
       "      <td>Af-Pak-India</td>\n",
       "      <td>0</td>\n",
       "      <td>1.410930</td>\n",
       "      <td>25757.0</td>\n",
       "    </tr>\n",
       "    <tr>\n",
       "      <th>1</th>\n",
       "      <td>Af-Pak-India</td>\n",
       "      <td>1</td>\n",
       "      <td>13.126316</td>\n",
       "      <td>571.0</td>\n",
       "    </tr>\n",
       "    <tr>\n",
       "      <th>2</th>\n",
       "      <td>ROW</td>\n",
       "      <td>0</td>\n",
       "      <td>2.213852</td>\n",
       "      <td>149301.0</td>\n",
       "    </tr>\n",
       "    <tr>\n",
       "      <th>3</th>\n",
       "      <td>ROW</td>\n",
       "      <td>1</td>\n",
       "      <td>10.030395</td>\n",
       "      <td>6062.0</td>\n",
       "    </tr>\n",
       "  </tbody>\n",
       "</table>\n",
       "</div>"
      ],
      "text/plain": [
       "          Local  suicide       mean      size\n",
       "0  Af-Pak-India        0   1.410930   25757.0\n",
       "1  Af-Pak-India        1  13.126316     571.0\n",
       "2           ROW        0   2.213852  149301.0\n",
       "3           ROW        1  10.030395    6062.0"
      ]
     },
     "execution_count": 18,
     "metadata": {},
     "output_type": "execute_result"
    }
   ],
   "source": [
    "\n",
    "## Number of suicides attacks and average kills by Af-Pak-India vs ROW\n",
    "data.groupby(['Local','suicide'])['nkill'].agg([np.mean,np.size])\n",
    "data.groupby(['Local','suicide'])['nkill'].agg([np.mean,np.size]).reset_index()"
   ]
  },
  {
   "cell_type": "code",
   "execution_count": 19,
   "metadata": {},
   "outputs": [
    {
     "data": {
      "text/html": [
       "<div>\n",
       "<style scoped>\n",
       "    .dataframe tbody tr th:only-of-type {\n",
       "        vertical-align: middle;\n",
       "    }\n",
       "\n",
       "    .dataframe tbody tr th {\n",
       "        vertical-align: top;\n",
       "    }\n",
       "\n",
       "    .dataframe thead th {\n",
       "        text-align: right;\n",
       "    }\n",
       "</style>\n",
       "<table border=\"1\" class=\"dataframe\">\n",
       "  <thead>\n",
       "    <tr style=\"text-align: right;\">\n",
       "      <th></th>\n",
       "      <th>Local</th>\n",
       "      <th>suicide</th>\n",
       "      <th>Number_Killed</th>\n",
       "      <th>Total_Wounded</th>\n",
       "    </tr>\n",
       "  </thead>\n",
       "  <tbody>\n",
       "    <tr>\n",
       "      <th>0</th>\n",
       "      <td>Af-Pak-India</td>\n",
       "      <td>0</td>\n",
       "      <td>1.410930</td>\n",
       "      <td>56622.0</td>\n",
       "    </tr>\n",
       "    <tr>\n",
       "      <th>1</th>\n",
       "      <td>Af-Pak-India</td>\n",
       "      <td>1</td>\n",
       "      <td>13.126316</td>\n",
       "      <td>14396.0</td>\n",
       "    </tr>\n",
       "    <tr>\n",
       "      <th>2</th>\n",
       "      <td>ROW</td>\n",
       "      <td>0</td>\n",
       "      <td>2.213852</td>\n",
       "      <td>335768.0</td>\n",
       "    </tr>\n",
       "    <tr>\n",
       "      <th>3</th>\n",
       "      <td>ROW</td>\n",
       "      <td>1</td>\n",
       "      <td>10.030395</td>\n",
       "      <td>117083.0</td>\n",
       "    </tr>\n",
       "  </tbody>\n",
       "</table>\n",
       "</div>"
      ],
      "text/plain": [
       "          Local  suicide  Number_Killed  Total_Wounded\n",
       "0  Af-Pak-India        0       1.410930        56622.0\n",
       "1  Af-Pak-India        1      13.126316        14396.0\n",
       "2           ROW        0       2.213852       335768.0\n",
       "3           ROW        1      10.030395       117083.0"
      ]
     },
     "execution_count": 19,
     "metadata": {},
     "output_type": "execute_result"
    }
   ],
   "source": [
    "#Rename columns\n",
    "data.groupby(['Local','suicide'])['nkill'].agg([np.mean,np.size]).reset_index().rename(columns={'mean':'Average_Kills','size':'Number_Incidents'})\n",
    "\n",
    "data.groupby([\"Local\",'suicide']).agg({'nkill':np.mean,'nwound':np.sum}).reset_index().rename(columns={'nwound':'Total_Wounded','nkill':'Number_Killed'})\n"
   ]
  },
  {
   "cell_type": "code",
   "execution_count": null,
   "metadata": {},
   "outputs": [],
   "source": []
  },
  {
   "cell_type": "code",
   "execution_count": null,
   "metadata": {},
   "outputs": [],
   "source": []
  },
  {
   "cell_type": "code",
   "execution_count": null,
   "metadata": {},
   "outputs": [],
   "source": []
  },
  {
   "cell_type": "code",
   "execution_count": null,
   "metadata": {},
   "outputs": [],
   "source": []
  },
  {
   "cell_type": "code",
   "execution_count": null,
   "metadata": {},
   "outputs": [],
   "source": []
  },
  {
   "cell_type": "code",
   "execution_count": null,
   "metadata": {},
   "outputs": [],
   "source": []
  },
  {
   "cell_type": "code",
   "execution_count": null,
   "metadata": {},
   "outputs": [],
   "source": []
  },
  {
   "cell_type": "code",
   "execution_count": null,
   "metadata": {},
   "outputs": [],
   "source": []
  },
  {
   "cell_type": "code",
   "execution_count": null,
   "metadata": {},
   "outputs": [],
   "source": []
  },
  {
   "cell_type": "code",
   "execution_count": null,
   "metadata": {},
   "outputs": [],
   "source": []
  },
  {
   "cell_type": "code",
   "execution_count": null,
   "metadata": {},
   "outputs": [],
   "source": []
  },
  {
   "cell_type": "code",
   "execution_count": null,
   "metadata": {},
   "outputs": [],
   "source": []
  },
  {
   "cell_type": "code",
   "execution_count": null,
   "metadata": {},
   "outputs": [],
   "source": []
  },
  {
   "cell_type": "code",
   "execution_count": null,
   "metadata": {},
   "outputs": [],
   "source": []
  },
  {
   "cell_type": "code",
   "execution_count": null,
   "metadata": {},
   "outputs": [],
   "source": []
  },
  {
   "cell_type": "code",
   "execution_count": null,
   "metadata": {},
   "outputs": [],
   "source": []
  },
  {
   "cell_type": "code",
   "execution_count": null,
   "metadata": {},
   "outputs": [],
   "source": []
  },
  {
   "cell_type": "code",
   "execution_count": null,
   "metadata": {},
   "outputs": [],
   "source": []
  }
 ],
 "metadata": {
  "kernelspec": {
   "display_name": "Python 3",
   "language": "python",
   "name": "python3"
  },
  "language_info": {
   "codemirror_mode": {
    "name": "ipython",
    "version": 3
   },
   "file_extension": ".py",
   "mimetype": "text/x-python",
   "name": "python",
   "nbconvert_exporter": "python",
   "pygments_lexer": "ipython3",
   "version": "3.7.3"
  }
 },
 "nbformat": 4,
 "nbformat_minor": 2
}
